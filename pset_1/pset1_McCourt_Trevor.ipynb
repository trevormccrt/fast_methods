{
  "nbformat": 4,
  "nbformat_minor": 0,
  "metadata": {
    "colab": {
      "provenance": [],
      "collapsed_sections": []
    },
    "kernelspec": {
      "name": "python3",
      "display_name": "Python 3"
    },
    "language_info": {
      "name": "python"
    }
  },
  "cells": [
    {
      "cell_type": "code",
      "source": [
        "import os\n",
        "os.environ[\"OMP_NUM_THREADS\"] = \"1\"\n",
        "import matplotlib.pyplot as plt\n",
        "import numpy as np\n",
        "import scipy\n",
        "from scipy import linalg as splinalg\n",
        "import time"
      ],
      "metadata": {
        "id": "yac-Q659dt0L"
      },
      "execution_count": 11,
      "outputs": []
    },
    {
      "cell_type": "code",
      "source": [
        "def random_complex(M, N):\n",
        "    return np.random.uniform(-1, 1, (M, N)) + 1j * np.random.uniform(-1, 1, (M, N))"
      ],
      "metadata": {
        "id": "pVjVhcuEeSLY"
      },
      "execution_count": 3,
      "outputs": []
    },
    {
      "cell_type": "markdown",
      "source": [
        "**2.1**"
      ],
      "metadata": {
        "id": "z01FOeNJdmq0"
      }
    },
    {
      "cell_type": "code",
      "source": [
        "def DFT_matrix(N):\n",
        "    axis_vals = np.arange(start=0, stop=N, step=1)\n",
        "    return np.exp(-2 * np.pi * 1j * 1/N * np.einsum(\"i, j -> ij\", axis_vals, axis_vals))\n",
        "\n",
        "\n",
        "def apply_DFT(x):\n",
        "    N = np.shape(x)[1]\n",
        "    return np.einsum(\"ij, kj -> ki\", DFT_matrix(N), x)"
      ],
      "metadata": {
        "id": "LewVXTCIeq-Y"
      },
      "execution_count": 4,
      "outputs": []
    },
    {
      "cell_type": "code",
      "execution_count": 12,
      "metadata": {
        "id": "JCskR3KadEU7"
      },
      "outputs": [],
      "source": [
        "def test_dft_matrix():\n",
        "    N = 512\n",
        "    my_mat = DFT_matrix(N)\n",
        "    scipy_mat = splinalg.dft(N, None)\n",
        "    np.testing.assert_allclose(my_mat, scipy_mat)\n",
        "\n",
        "\n",
        "def test_dft():\n",
        "    N = 512\n",
        "    M = 1\n",
        "    x = random_complex(M, N)\n",
        "    my_dft = apply_DFT(x)\n",
        "    numpy_dft = np.fft.fft(x, axis=1)\n",
        "    np.testing.assert_allclose(my_dft, numpy_dft)"
      ]
    },
    {
      "cell_type": "code",
      "source": [
        "test_dft_matrix()\n",
        "test_dft()"
      ],
      "metadata": {
        "id": "oEc_oZX9e1hW"
      },
      "execution_count": 13,
      "outputs": []
    },
    {
      "cell_type": "markdown",
      "source": [
        "**2.3 (Code)**"
      ],
      "metadata": {
        "id": "gVHmh_eDfNWp"
      }
    },
    {
      "cell_type": "code",
      "source": [
        "def generate_cached_dft(n_vals):\n",
        "    dft_mats = {}\n",
        "    for N in n_vals:\n",
        "        dft_mats[N] = DFT_matrix(N)\n",
        "\n",
        "    def apply_cached_DFT(x):\n",
        "        N = np.shape(x)[1]\n",
        "        return np.einsum(\"ij, kj -> ki\", dft_mats[N], x)\n",
        "\n",
        "    return apply_cached_DFT"
      ],
      "metadata": {
        "id": "pXbVdjuFfPAU"
      },
      "execution_count": 14,
      "outputs": []
    },
    {
      "cell_type": "markdown",
      "source": [
        "**3.1**"
      ],
      "metadata": {
        "id": "aqR9G0axgSjE"
      }
    },
    {
      "cell_type": "code",
      "source": [
        "def apply_FFT(x):\n",
        "    N = np.shape(x)[1]\n",
        "    if N == 1:\n",
        "        return x\n",
        "    k_vals = np.arange(start=0, stop=N, step=1)\n",
        "    even_fft = apply_FFT(x[:, 0::2])\n",
        "    odd_fft = apply_FFT(x[:, 1::2])\n",
        "    return np.concatenate([even_fft, even_fft], axis=-1) +\\\n",
        "           np.exp(-2 * np.pi * 1j * k_vals/N) * np.concatenate([odd_fft, odd_fft], axis=-1)\n"
      ],
      "metadata": {
        "id": "HxJdmC9NgT35"
      },
      "execution_count": 15,
      "outputs": []
    },
    {
      "cell_type": "code",
      "source": [
        "def test_fft():\n",
        "    N = 512\n",
        "    M = 1\n",
        "    x = random_complex(M, N)\n",
        "    my_fft = apply_FFT(x)\n",
        "    numpy_fft = np.fft.fft(x, axis=-1)\n",
        "    np.testing.assert_allclose(my_fft, numpy_fft)"
      ],
      "metadata": {
        "id": "F5llxBakgiTy"
      },
      "execution_count": 16,
      "outputs": []
    },
    {
      "cell_type": "code",
      "source": [
        "test_fft()"
      ],
      "metadata": {
        "id": "6OMDf80Dgp_2"
      },
      "execution_count": 17,
      "outputs": []
    },
    {
      "cell_type": "markdown",
      "source": [
        "**Generate Timing Plots for Everything**"
      ],
      "metadata": {
        "id": "p_HbOk0wgvSK"
      }
    },
    {
      "cell_type": "code",
      "source": [
        "def random_timing_plot(M, n_max, n_repeats):\n",
        "    n_vals = 2 ** np.arange(start=0, stop=n_max + 1, step=1)\n",
        "    apply_cached_DFT = generate_cached_dft(n_vals)\n",
        "    my_dft_times = []\n",
        "    my_cached_dft_times = []\n",
        "    numpy_fft_times = []\n",
        "    my_fft_times = []\n",
        "    for N in n_vals:\n",
        "        print(N)\n",
        "        x_vals = [random_complex(M, N) for _ in range(n_repeats)]\n",
        "        my_start_time = time.time()\n",
        "        _ = [apply_DFT(x) for x in x_vals]\n",
        "        my_end_time = time.time()\n",
        "        my_cached_start_time = time.time()\n",
        "        _ = [apply_cached_DFT(x) for x in x_vals]\n",
        "        my_cached_end_time = time.time()\n",
        "        my_fft_start_time = time.time()\n",
        "        _ = [apply_FFT(x) for x in x_vals]\n",
        "        my_fft_end_time = time.time()\n",
        "        numpy_start_time = time.time()\n",
        "        _ = [np.fft.fft(x) for x in x_vals]\n",
        "        numpy_end_time = time.time()\n",
        "        my_dft_times.append((my_end_time - my_start_time)/n_repeats)\n",
        "        my_cached_dft_times.append((my_cached_end_time - my_cached_start_time)/n_repeats)\n",
        "        my_fft_times.append((my_fft_end_time - my_fft_start_time)/ n_repeats)\n",
        "        numpy_fft_times.append((numpy_end_time - numpy_start_time) / n_repeats)\n",
        "    fig, axs = plt.subplots()\n",
        "    axs.plot(n_vals, my_dft_times, label=\"My DFT\")\n",
        "    axs.plot(n_vals, my_cached_dft_times, label=\"My Cached DFT\")\n",
        "    axs.plot(n_vals, my_fft_times, label=\"My FFT\")\n",
        "    axs.plot(n_vals, numpy_fft_times, label=\"Numpy FFT\")\n",
        "    axs.legend()\n",
        "    axs.set_xlabel(\"N\")\n",
        "    axs.set_ylabel(\"Time Per Transform (s)\")\n",
        "    axs.set_xscale(\"log\")\n",
        "    axs.set_yscale(\"log\")\n",
        "    return fig, axs\n"
      ],
      "metadata": {
        "id": "mTbjibe-g2ru"
      },
      "execution_count": 18,
      "outputs": []
    },
    {
      "cell_type": "markdown",
      "source": [
        "**Plots for M=1**"
      ],
      "metadata": {
        "id": "x-0T_GoYm_gT"
      }
    },
    {
      "cell_type": "code",
      "source": [
        "m1_fig, m1_axs = random_timing_plot(1, 12, 50)\n",
        "m1_fig.show()"
      ],
      "metadata": {
        "colab": {
          "base_uri": "https://localhost:8080/",
          "height": 509
        },
        "id": "piDda3jhiUJk",
        "outputId": "843bff6d-2f24-40a7-a973-c30d4ac9b369"
      },
      "execution_count": 20,
      "outputs": [
        {
          "output_type": "stream",
          "name": "stdout",
          "text": [
            "1\n",
            "2\n",
            "4\n",
            "8\n",
            "16\n",
            "32\n",
            "64\n",
            "128\n",
            "256\n",
            "512\n",
            "1024\n",
            "2048\n",
            "4096\n"
          ]
        },
        {
          "output_type": "display_data",
          "data": {
            "text/plain": [
              "<Figure size 432x288 with 1 Axes>"
            ],
            "image/png": "[encoded data removed]"
          },
          "metadata": {
            "needs_background": "light"
          }
        }
      ]
    },
    {
      "cell_type": "markdown",
      "source": [
        "**Plots for M=100**"
      ],
      "metadata": {
        "id": "e8f8vu8vnCZ_"
      }
    },
    {
      "cell_type": "code",
      "source": [
        "m100_fig, m100_axs = random_timing_plot(100, 12, 50)\n",
        "m1_fig.show()"
      ],
      "metadata": {
        "colab": {
          "base_uri": "https://localhost:8080/",
          "height": 512
        },
        "id": "_HeIttJui5V9",
        "outputId": "1a80f9a8-05f7-4c41-cea5-97943f822119"
      },
      "execution_count": 21,
      "outputs": [
        {
          "output_type": "stream",
          "name": "stdout",
          "text": [
            "1\n",
            "2\n",
            "4\n",
            "8\n",
            "16\n",
            "32\n",
            "64\n",
            "128\n",
            "256\n",
            "512\n",
            "1024\n",
            "2048\n",
            "4096\n"
          ]
        },
        {
          "output_type": "display_data",
          "data": {
            "text/plain": [
              "<Figure size 432x288 with 1 Axes>"
            ],
            "image/png": "[encoded data removed]"
          },
          "metadata": {
            "needs_background": "light"
          }
        }
      ]
    },
    {
      "cell_type": "markdown",
      "source": [
        "**2.2**\n",
        "\n",
        "As can be seen in the above plot, the time taken by the implimented DFT scales as $N^2$: the slope of the curve in the log-log plot is very close to 2. \n",
        "\n",
        "**2.3 (Explanation)**\n",
        "\n",
        "The caching of the DFT matricies did not change the scaling of run time at large N, as the slope of the curve is still 2. However, it did seem to signifigantly improve the constant factor, as the cached DFT is consistantly ~1.5 orders of magnitude faster than the naieve implimentation. This behavior is completely expected, as we have removed the $N^2$ matrix construction step, but the $N^2$ matrix-vector multiplication still remains. A crossover between the cached DFT and numpy FFT is not observed, but the performance of the two algorithms is similar for small N, likely limited by python overhead.\n",
        "\n",
        "**2.4**\n",
        "\n",
        "The plots flatten out because the overhead associated with the computation (python logic, going from python to C/fortran, etc) is taking longer than the actual base computation being performed. I would expect the value of N at which this starts occuring to get smaller as M increases, as the overhead will stay roughly the same but the numerical load will increase. Indeed, this behavior can be seen in the above plot for M=100.\n",
        "\n",
        "**3.2**\n",
        "\n",
        "My FFT is compared to the numpy FFT for M=1 and M=100 in the above plots. It is clear that my FFT scales the same way as the numpy FFT for large N. However, it is generally much slower than the numpy FFT and even the cached DFT in the M=1 case for the tested N values. This is probably because python recursion has a lot of overhead and numpy matrix-vector multiplication has relatively little.\n",
        "\n"
      ],
      "metadata": {
        "id": "bvl3gsLkjkHk"
      }
    },
    {
      "cell_type": "markdown",
      "source": [
        "**3.3**"
      ],
      "metadata": {
        "id": "QFhe6OJ0m2BR"
      }
    },
    {
      "cell_type": "code",
      "source": [
        "def apply_FFT_cached(x, cached_fft_fn, N_min):\n",
        "    N = np.shape(x)[1]\n",
        "    if N == 1:\n",
        "        return x\n",
        "    if N == N_min:\n",
        "        return cached_fft_fn(x)\n",
        "    k_vals = np.arange(start=0, stop=N, step=1)\n",
        "    even_fft = apply_FFT_cached(x[:, 0::2], cached_fft_fn, N_min)\n",
        "    odd_fft = apply_FFT_cached(x[:, 1::2], cached_fft_fn, N_min)\n",
        "    return np.concatenate([even_fft, even_fft], axis=-1) + \\\n",
        "           np.exp(-2 * np.pi * 1j * k_vals / N) * np.concatenate([odd_fft, odd_fft], axis=-1)"
      ],
      "metadata": {
        "id": "0Y27Aaa1m38s"
      },
      "execution_count": 29,
      "outputs": []
    },
    {
      "cell_type": "code",
      "source": [
        "def test_fft_cached():\n",
        "    N = 512\n",
        "    M = 1\n",
        "    N_min = int(N/4)\n",
        "    cache_dft = generate_cached_dft([N_min])\n",
        "    x = random_complex(M, N)\n",
        "    my_fft = apply_FFT_cached(x, cache_dft, N_min)\n",
        "    numpy_fft = np.fft.fft(x, axis=-1)\n",
        "    np.testing.assert_allclose(my_fft, numpy_fft)"
      ],
      "metadata": {
        "id": "Z011fCPtnF6N"
      },
      "execution_count": 26,
      "outputs": []
    },
    {
      "cell_type": "code",
      "source": [
        "test_fft_cached()"
      ],
      "metadata": {
        "id": "JDOFs2zQn2aM"
      },
      "execution_count": 27,
      "outputs": []
    },
    {
      "cell_type": "code",
      "source": [
        "M = 100\n",
        "n_test = 10\n",
        "n_repeats = 50\n",
        "N_test = 2 ** n_test\n",
        "all_N_min = 2 ** np.arange(start=0, stop=n_test, step=1)\n",
        "apply_cached_DFT = generate_cached_dft(all_N_min)\n",
        "\n",
        "x_vals = [random_complex(M, N_test) for _ in range(n_repeats)]\n",
        "times = []\n",
        "\n",
        "for N_min in all_N_min:\n",
        "    print(N_min)\n",
        "    my_start_time = time.time()\n",
        "    _ = [apply_FFT_cached(x, apply_cached_DFT, N_min) for x in x_vals]\n",
        "    my_end_time = time.time()\n",
        "    times.append((my_end_time - my_start_time) / n_repeats)\n",
        "\n",
        "caching_fig, caching_axs = plt.subplots()\n",
        "caching_axs.plot(all_N_min, times)\n",
        "caching_axs.set_xlabel(\"N Min\")\n",
        "caching_axs.set_ylabel(\"Time Per Transform (s)\")\n",
        "caching_axs.set_xscale(\"log\")\n",
        "caching_fig.show()\n"
      ],
      "metadata": {
        "colab": {
          "base_uri": "https://localhost:8080/",
          "height": 457
        },
        "id": "kdOgBuZZoEO_",
        "outputId": "3c0156bb-2742-45db-b73e-311d2a38ef95"
      },
      "execution_count": 30,
      "outputs": [
        {
          "output_type": "stream",
          "name": "stdout",
          "text": [
            "1\n",
            "2\n",
            "4\n",
            "8\n",
            "16\n",
            "32\n",
            "64\n",
            "128\n",
            "256\n",
            "512\n"
          ]
        },
        {
          "output_type": "display_data",
          "data": {
            "text/plain": [
              "<Figure size 432x288 with 1 Axes>"
            ],
            "image/png": "[encoded data removed]"
          },
          "metadata": {
            "needs_background": "light"
          }
        }
      ]
    },
    {
      "cell_type": "markdown",
      "source": [
        "As can be seen in the above plot, the optimal $N_{\\text{min}}$ is somewhere between 10 and 100. This makes sense given the M=100 plot from before. My FFT is still about an order of magnitude slower than the numpy implimentation, which I think is inevitable given how slow recursion is in python."
      ],
      "metadata": {
        "id": "XVHeW-HHqLvn"
      }
    }
  ]
}